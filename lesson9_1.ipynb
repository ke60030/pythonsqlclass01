{
 "cells": [
  {
   "cell_type": "code",
   "execution_count": 6,
   "metadata": {},
   "outputs": [
    {
     "name": "stdout",
     "output_type": "stream",
     "text": [
      "kelly\n",
      "78\n",
      "65\n",
      "92\n"
     ]
    }
   ],
   "source": [
    "#使用dictionary建立一筆資料\n",
    "#建立dict的實體\n",
    "student = {\n",
    "    'name': 'kelly', \n",
    "    '國文': 78,\n",
    "    '英文': 92,\n",
    "    '數學': 65\n",
    "}\n",
    "print(student['name'])\n",
    "print(student['國文'])\n",
    "print(student['數學'])\n",
    "print(student['英文'])"
   ]
  },
  {
   "cell_type": "code",
   "execution_count": 5,
   "metadata": {},
   "outputs": [
    {
     "name": "stdout",
     "output_type": "stream",
     "text": [
      "kelly\n",
      "78\n",
      "65\n",
      "92\n"
     ]
    }
   ],
   "source": [
    "student:dict[str,any] = {\n",
    "    'name': 'kelly', \n",
    "    '國文': 78,\n",
    "    '英文': 92,\n",
    "    '數學': 65\n",
    "}\n",
    "print(student['name'])\n",
    "print(student['國文'])\n",
    "print(student['數學'])\n",
    "print(student['英文'])"
   ]
  },
  {
   "cell_type": "code",
   "execution_count": 1,
   "metadata": {},
   "outputs": [
    {
     "name": "stdout",
     "output_type": "stream",
     "text": [
      "10\n",
      "20\n",
      "30\n"
     ]
    }
   ],
   "source": [
    "values = [10, 20, 30]\n",
    "print(values[0])\n",
    "print(values[1])\n",
    "print(values[2])"
   ]
  },
  {
   "cell_type": "code",
   "execution_count": 3,
   "metadata": {},
   "outputs": [
    {
     "name": "stdout",
     "output_type": "stream",
     "text": [
      "10\n",
      "20\n",
      "30\n"
     ]
    }
   ],
   "source": [
    "values:list[int] = [10, 20, 30]\n",
    "print(values[0])\n",
    "print(values[1])\n",
    "print(values[2])"
   ]
  }
 ],
 "metadata": {
  "kernelspec": {
   "display_name": "Python 3",
   "language": "python",
   "name": "python3"
  },
  "language_info": {
   "codemirror_mode": {
    "name": "ipython",
    "version": 3
   },
   "file_extension": ".py",
   "mimetype": "text/x-python",
   "name": "python",
   "nbconvert_exporter": "python",
   "pygments_lexer": "ipython3",
   "version": "3.10.13"
  }
 },
 "nbformat": 4,
 "nbformat_minor": 2
}
