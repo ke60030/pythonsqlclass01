{
 "cells": [
  {
   "cell_type": "code",
   "execution_count": 2,
   "metadata": {},
   "outputs": [
    {
     "data": {
      "text/plain": [
       "psycopg2.extensions.connection"
      ]
     },
     "execution_count": 2,
     "metadata": {},
     "output_type": "execute_result"
    }
   ],
   "source": [
    "import psycopg2\n",
    "import os\n",
    "from psycopg2 import connect\n",
    "from dotenv import load_dotenv\n",
    "#初始化環境變數\n",
    "load_dotenv()\n",
    "\n",
    "\n",
    "#使用環境變數POSTGRE_PASSWORD，取得密碼，並建立connect的實體\n",
    "conn:connect = psycopg2.connect(os.environ['POSTGRE_PASSWORD'])\n",
    "type(conn)\n",
    "#conn結束使用一定要關閉\n",
    "conn.close"
   ]
  },
  {
   "cell_type": "code",
   "execution_count": 16,
   "metadata": {},
   "outputs": [],
   "source": [
    "#使用環境變數POSTGRE_PASSWORD，取得密碼，並建立connect的實體\n",
    "conn:connect = psycopg2.connect(os.environ['POSTGRE_PASSWORD'])\n",
    "type(conn)\n",
    "#建立cursor實體，準備執行SQL\n",
    "cur = conn.cursor()\n",
    "\n",
    "sql = '''CREATE TABLE IF NOT EXISTS student(\n",
    "\tid SERIAL PRIMARY KEY,\n",
    "\tname VARCHAR(20),\n",
    "\tchinese SMALLINT,\n",
    "\tenglish SMALLINT,\n",
    "\tmath SMALLINT\n",
    ");\n",
    "'''\n",
    "#執行sql\n",
    "cur.execute(sql)\n",
    "\n",
    "#確認資料可以執行\n",
    "conn.commit()\n",
    "#關閉cursor\n",
    "cur.close()\n",
    "\n",
    "#conn結束使用一定要關閉連線\n",
    "conn.close()"
   ]
  },
  {
   "cell_type": "markdown",
   "metadata": {},
   "source": [
    "## 新增資料"
   ]
  },
  {
   "cell_type": "code",
   "execution_count": 14,
   "metadata": {},
   "outputs": [],
   "source": [
    "#使用環境變數POSTGRE_PASSWORD，取得密碼，並建立connect的實體\n",
    "conn:connect = psycopg2.connect(os.environ['POSTGRE_PASSWORD'])\n",
    "type(conn)\n",
    "#建立cursor實體，準備執行SQL\n",
    "cur = conn.cursor()\n",
    "\n",
    "#sql = '''INSERT INTO student (name, chinese, english, math)\n",
    "#VALUES('jenny',65,75,85);\n",
    "#'''\n",
    "sql = '''INSERT INTO student (name, chinese, english, math)\n",
    "VALUES(%(name)s,%(chinese)s,%(english)s,%(math)s);\n",
    "'''\n",
    "\n",
    "#執行sql\n",
    "cur.execute(sql,{'name':'kelly','chinese':60,'english':70,'math':80})\n",
    "\n",
    "#確認資料可以執行\n",
    "conn.commit()\n",
    "#關閉cursor\n",
    "cur.close()\n",
    "\n",
    "#conn結束使用一定要關閉連線\n",
    "conn.close()"
   ]
  },
  {
   "cell_type": "markdown",
   "metadata": {},
   "source": [
    "## 新增多筆資料"
   ]
  },
  {
   "cell_type": "code",
   "execution_count": 18,
   "metadata": {},
   "outputs": [],
   "source": [
    "#使用環境變數POSTGRE_PASSWORD，取得密碼，並建立connect的實體\n",
    "conn:connect = psycopg2.connect(os.environ['POSTGRE_PASSWORD'])\n",
    "type(conn)\n",
    "#建立cursor實體，準備執行SQL\n",
    "cur = conn.cursor()\n",
    "\n",
    "#sql = '''INSERT INTO student (name, chinese, english, math)\n",
    "#VALUES('jenny',65,75,85);\n",
    "#'''\n",
    "sql = '''INSERT INTO student (name, chinese, english, math)\n",
    "VALUES(%(name)s,%(chinese)s,%(english)s,%(math)s);\n",
    "'''\n",
    "\n",
    "#執行sql\n",
    "data:list[dict]=[\n",
    "    {'name':'kelly','chinese':60,'english':70,'math':80},\n",
    "    {'name':'jenny','chinese':65,'english':75,'math':85},\n",
    "    {'name':'amy','chinese':68,'english':78,'math':88}\n",
    "]\n",
    "for item in data:\n",
    "    cur.execute(sql,item)\n",
    "\n",
    "#確認資料可以執行\n",
    "conn.commit()\n",
    "#關閉cursor\n",
    "cur.close()\n",
    "\n",
    "#conn結束使用一定要關閉連線\n",
    "conn.close()"
   ]
  },
  {
   "cell_type": "code",
   "execution_count": 7,
   "metadata": {},
   "outputs": [
    {
     "name": "stdout",
     "output_type": "stream",
     "text": [
      "[(1, 'kelly', 60, 70, 80), (2, 'jenny', 65, 75, 85)]\n"
     ]
    }
   ],
   "source": [
    "#使用環境變數POSTGRE_PASSWORD，取得密碼，並建立connect的實體\n",
    "conn:connect = psycopg2.connect(os.environ['POSTGRE_PASSWORD'])\n",
    "type(conn)\n",
    "#建立cursor實體，準備執行SQL\n",
    "cur = conn.cursor()\n",
    "\n",
    "sql = '''SELECT *\n",
    "FROM student;\n",
    "'''\n",
    "#執行sql\n",
    "cur.execute(sql)\n",
    "\n",
    "#取得資料\n",
    "print(cur.fetchall())\n",
    "\n",
    "#確認資料可以執行\n",
    "conn.commit()\n",
    "#關閉cursor\n",
    "cur.close()\n",
    "\n",
    "#conn結束使用一定要關閉連線\n",
    "conn.close()"
   ]
  },
  {
   "cell_type": "markdown",
   "metadata": {},
   "source": [
    "## 刪除表格"
   ]
  },
  {
   "cell_type": "code",
   "execution_count": 15,
   "metadata": {},
   "outputs": [],
   "source": [
    "#使用環境變數POSTGRE_PASSWORD，取得密碼，並建立connect的實體\n",
    "conn:connect = psycopg2.connect(os.environ['POSTGRE_PASSWORD'])\n",
    "type(conn)\n",
    "#建立cursor實體，準備執行SQL\n",
    "cur = conn.cursor()\n",
    "\n",
    "sql = '''\n",
    "DROP TABLE  IF EXISTS student;\n",
    "'''\n",
    "#執行sql\n",
    "cur.execute(sql)\n",
    "\n",
    "\n",
    "#確認資料可以執行\n",
    "conn.commit()\n",
    "#關閉cursor\n",
    "cur.close()\n",
    "\n",
    "#conn結束使用一定要關閉連線\n",
    "conn.close()"
   ]
  }
 ],
 "metadata": {
  "kernelspec": {
   "display_name": "Python 3",
   "language": "python",
   "name": "python3"
  },
  "language_info": {
   "codemirror_mode": {
    "name": "ipython",
    "version": 3
   },
   "file_extension": ".py",
   "mimetype": "text/x-python",
   "name": "python",
   "nbconvert_exporter": "python",
   "pygments_lexer": "ipython3",
   "version": "3.10.13"
  }
 },
 "nbformat": 4,
 "nbformat_minor": 2
}
