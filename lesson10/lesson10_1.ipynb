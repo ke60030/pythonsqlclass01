{
 "cells": [
  {
   "cell_type": "code",
   "execution_count": 4,
   "metadata": {},
   "outputs": [
    {
     "name": "stdout",
     "output_type": "stream",
     "text": [
      "False\n",
      "True\n"
     ]
    }
   ],
   "source": [
    "#讀檔\n",
    "#讀取names.txt\n",
    "file = open('names.txt',encoding='utf-8')\n",
    "type(file)\n",
    "print(file.closed)\n",
    "file.close()\n",
    "print(file.closed)\n"
   ]
  },
  {
   "cell_type": "code",
   "execution_count": null,
   "metadata": {},
   "outputs": [],
   "source": [
    "file = open('names.txt',encoding='utf-8')\n",
    "type(file)\n",
    "content:str = file.read()\n",
    "print(content)\n",
    "file.close()\n",
    "print(file.closed) "
   ]
  },
  {
   "cell_type": "code",
   "execution_count": null,
   "metadata": {},
   "outputs": [],
   "source": [
    "#讀取names.txt\n",
    "#建立file物件\n",
    "file = open('names.txt',encoding='utf-8')\n",
    "#讀取檔案文字\n",
    "content:str = file.read()\n",
    "print(content)\n",
    "#關閉連線\n",
    "file.close()\n",
    "print(file.closed) "
   ]
  },
  {
   "cell_type": "code",
   "execution_count": null,
   "metadata": {},
   "outputs": [],
   "source": [
    "#自動執行close\n",
    "with open('names.txt',encoding='utf-8') as file:\n",
    "    content:str = file.read()\n",
    "\n",
    "names:list[str] = content.split(sep='\\n')\n",
    "for name in names:\n",
    "    print(name)"
   ]
  },
  {
   "cell_type": "code",
   "execution_count": 20,
   "metadata": {},
   "outputs": [
    {
     "data": {
      "text/plain": [
       "1"
      ]
     },
     "execution_count": 20,
     "metadata": {},
     "output_type": "execute_result"
    }
   ],
   "source": [
    "import random\n",
    "random.randint(1,5)"
   ]
  },
  {
   "cell_type": "code",
   "execution_count": 21,
   "metadata": {},
   "outputs": [
    {
     "data": {
      "text/plain": [
       "'陳得映'"
      ]
     },
     "execution_count": 21,
     "metadata": {},
     "output_type": "execute_result"
    }
   ],
   "source": [
    "random.choice(names)"
   ]
  },
  {
   "cell_type": "code",
   "execution_count": 22,
   "metadata": {},
   "outputs": [
    {
     "data": {
      "text/plain": [
       "['楊韋廷']"
      ]
     },
     "execution_count": 22,
     "metadata": {},
     "output_type": "execute_result"
    }
   ],
   "source": [
    "random.choices(names) #傳出list"
   ]
  },
  {
   "cell_type": "code",
   "execution_count": 24,
   "metadata": {},
   "outputs": [
    {
     "data": {
      "text/plain": [
       "['崔孝憲', '吳志宣', '林建勳', '陳信念', '余丞苓']"
      ]
     },
     "execution_count": 24,
     "metadata": {},
     "output_type": "execute_result"
    }
   ],
   "source": [
    "random.choices(names,k=5)"
   ]
  },
  {
   "cell_type": "code",
   "execution_count": 27,
   "metadata": {},
   "outputs": [
    {
     "data": {
      "text/plain": [
       "['林希啟', '王雅慧', '王怡君']"
      ]
     },
     "execution_count": 27,
     "metadata": {},
     "output_type": "execute_result"
    }
   ],
   "source": [
    "student_names:list[str] = random.choices(names,k=3)\n",
    "student_names"
   ]
  },
  {
   "cell_type": "code",
   "execution_count": 31,
   "metadata": {},
   "outputs": [
    {
     "name": "stdout",
     "output_type": "stream",
     "text": [
      "{'name': '林希啟', '國文': 93, '英文': 98, '數學': 89}\n",
      "{'name': '王雅慧', '國文': 79, '英文': 94, '數學': 60}\n",
      "{'name': '王怡君', '國文': 69, '英文': 87, '數學': 58}\n"
     ]
    }
   ],
   "source": [
    "for student_name in student_names:\n",
    "    student:dict = dict()\n",
    "    student['name'] = student_name\n",
    "    student['國文'] =random.randint(50,100)\n",
    "    student['英文'] =random.randint(50,100)\n",
    "    student['數學'] =random.randint(50,100)\n",
    "    print(student)"
   ]
  },
  {
   "cell_type": "code",
   "execution_count": 33,
   "metadata": {},
   "outputs": [
    {
     "data": {
      "text/plain": [
       "[{'name': '林希啟', '國文': 82, '英文': 71, '數學': 53},\n",
       " {'name': '王雅慧', '國文': 64, '英文': 62, '數學': 71},\n",
       " {'name': '王怡君', '國文': 80, '英文': 70, '數學': 64}]"
      ]
     },
     "execution_count": 33,
     "metadata": {},
     "output_type": "execute_result"
    }
   ],
   "source": [
    "students:list[dict]=[] #先建立空的list\n",
    "for student_name in student_names:\n",
    "    student:dict = dict()\n",
    "    student['name'] = student_name\n",
    "    student['國文'] =random.randint(50,100)\n",
    "    student['英文'] =random.randint(50,100)\n",
    "    student['數學'] =random.randint(50,100)\n",
    "    students.append(student) #放到list\n",
    "students"
   ]
  }
 ],
 "metadata": {
  "kernelspec": {
   "display_name": "Python 3",
   "language": "python",
   "name": "python3"
  },
  "language_info": {
   "codemirror_mode": {
    "name": "ipython",
    "version": 3
   },
   "file_extension": ".py",
   "mimetype": "text/x-python",
   "name": "python",
   "nbconvert_exporter": "python",
   "pygments_lexer": "ipython3",
   "version": "3.10.13"
  }
 },
 "nbformat": 4,
 "nbformat_minor": 2
}
