{
 "cells": [
  {
   "cell_type": "code",
   "execution_count": 5,
   "metadata": {},
   "outputs": [
    {
     "name": "stdout",
     "output_type": "stream",
     "text": [
      "有a1的key\n",
      "10\n",
      "=================\n",
      "有a2的key\n",
      "20\n"
     ]
    }
   ],
   "source": [
    "mydict:dict[str,int] = {'a1':10 ,'a2':20}\n",
    "if 'a1' in mydict:\n",
    "    print('有a1的key')\n",
    "    print(mydict['a1'])\n",
    "print(\"=================\")\n",
    "if 'a2' in mydict:\n",
    "    print('有a2的key')\n",
    "    print(mydict['a2'])\n",
    "\n",
    "if 'a3' in mydict:\n",
    "    print('有a3的key')\n",
    "    print(mydict['a3'])"
   ]
  },
  {
   "cell_type": "code",
   "execution_count": 8,
   "metadata": {},
   "outputs": [
    {
     "name": "stdout",
     "output_type": "stream",
     "text": [
      "=================\n"
     ]
    },
    {
     "data": {
      "text/plain": [
       "{'a1': 100, 'a2': 200, 'a3': 300}"
      ]
     },
     "execution_count": 8,
     "metadata": {},
     "output_type": "execute_result"
    }
   ],
   "source": [
    "mydict:dict[str,int] = {}\n",
    "if 'a1' not in mydict:\n",
    "    mydict['a1'] = 100\n",
    "    \n",
    "print(\"=================\")\n",
    "if 'a2' not in mydict:\n",
    "    mydict['a2'] = 200\n",
    "    \n",
    "\n",
    "if 'a3' not in mydict:\n",
    "    mydict['a3'] = 300\n",
    "\n",
    "mydict"
   ]
  },
  {
   "cell_type": "code",
   "execution_count": 11,
   "metadata": {},
   "outputs": [
    {
     "name": "stdout",
     "output_type": "stream",
     "text": [
      "10\n",
      "20\n",
      "300\n"
     ]
    }
   ],
   "source": [
    "mydict:dict[str,int] = {'a1':10 ,'a2':20}\n",
    "if 'a1' in mydict:\n",
    "   print(mydict['a1'])\n",
    "if 'a2' in mydict:\n",
    "    print(mydict['a2'])\n",
    "if 'a3' not in mydict:\n",
    "    mydict['a3'] = 300\n",
    "    print(mydict['a3'])"
   ]
  }
 ],
 "metadata": {
  "kernelspec": {
   "display_name": "Python 3",
   "language": "python",
   "name": "python3"
  },
  "language_info": {
   "codemirror_mode": {
    "name": "ipython",
    "version": 3
   },
   "file_extension": ".py",
   "mimetype": "text/x-python",
   "name": "python",
   "nbconvert_exporter": "python",
   "pygments_lexer": "ipython3",
   "version": "3.10.13"
  }
 },
 "nbformat": 4,
 "nbformat_minor": 2
}
