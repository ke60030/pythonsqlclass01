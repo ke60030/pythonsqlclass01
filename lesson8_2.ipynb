{
 "cells": [
  {
   "cell_type": "code",
   "execution_count": 1,
   "metadata": {},
   "outputs": [
    {
     "data": {
      "text/plain": [
       "[{'name': 'kelly', 'chinese': 78, 'english': 92, 'math': 65},\n",
       " {'name': 'jenny', 'chinese': 78, 'english': 92, 'math': 65},\n",
       " {'name': 'amy', 'chinese': 78, 'english': 92, 'math': 65}]"
      ]
     },
     "execution_count": 1,
     "metadata": {},
     "output_type": "execute_result"
    }
   ],
   "source": [
    "students = [{'name': 'kelly', 'chinese': 78, 'english': 92, 'math': 65},\n",
    "            {'name': 'jenny', 'chinese': 78, 'english': 92, 'math': 65},\n",
    "            {'name': 'amy', 'chinese': 78, 'english': 92, 'math': 65}]\n",
    "\n",
    "students\n"
   ]
  },
  {
   "cell_type": "code",
   "execution_count": 3,
   "metadata": {},
   "outputs": [
    {
     "name": "stdout",
     "output_type": "stream",
     "text": [
      "{'name': 'kelly', 'chinese': 78, 'english': 92, 'math': 65}\n",
      "{'name': 'jenny', 'chinese': 78, 'english': 92, 'math': 65}\n",
      "{'name': 'amy', 'chinese': 78, 'english': 92, 'math': 65}\n"
     ]
    }
   ],
   "source": [
    "for student in students:\n",
    "    print(student)"
   ]
  },
  {
   "cell_type": "code",
   "execution_count": 4,
   "metadata": {},
   "outputs": [
    {
     "name": "stdout",
     "output_type": "stream",
     "text": [
      "kelly\n",
      "78\n",
      "92\n",
      "65\n",
      "jenny\n",
      "78\n",
      "92\n",
      "65\n",
      "amy\n",
      "78\n",
      "92\n",
      "65\n"
     ]
    }
   ],
   "source": [
    "for student in students:\n",
    "    for key in student:\n",
    "        print(student[key])"
   ]
  },
  {
   "cell_type": "code",
   "execution_count": 5,
   "metadata": {},
   "outputs": [
    {
     "name": "stdout",
     "output_type": "stream",
     "text": [
      "kelly\n",
      "78\n",
      "92\n",
      "65\n",
      "============\n",
      "jenny\n",
      "78\n",
      "92\n",
      "65\n",
      "============\n",
      "amy\n",
      "78\n",
      "92\n",
      "65\n",
      "============\n"
     ]
    }
   ],
   "source": [
    "for student in students:\n",
    "    for key in student:\n",
    "        print(student[key])\n",
    "    print(\"============\")"
   ]
  },
  {
   "cell_type": "code",
   "execution_count": null,
   "metadata": {},
   "outputs": [],
   "source": []
  }
 ],
 "metadata": {
  "kernelspec": {
   "display_name": "Python 3",
   "language": "python",
   "name": "python3"
  },
  "language_info": {
   "codemirror_mode": {
    "name": "ipython",
    "version": 3
   },
   "file_extension": ".py",
   "mimetype": "text/x-python",
   "name": "python",
   "nbconvert_exporter": "python",
   "pygments_lexer": "ipython3",
   "version": "3.10.13"
  }
 },
 "nbformat": 4,
 "nbformat_minor": 2
}
